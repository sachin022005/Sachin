{
  "nbformat": 4,
  "nbformat_minor": 0,
  "metadata": {
    "colab": {
      "provenance": [],
      "authorship_tag": "ABX9TyMUNLS/PPCVfP2Ed8WGV74D",
      "include_colab_link": true
    },
    "kernelspec": {
      "name": "python3",
      "display_name": "Python 3"
    },
    "language_info": {
      "name": "python"
    }
  },
  "cells": [
    {
      "cell_type": "markdown",
      "metadata": {
        "id": "view-in-github",
        "colab_type": "text"
      },
      "source": [
        "<a href=\"https://colab.research.google.com/github/sachin022005/Sachin/blob/main/Copy_of_sachin_.ipynb\" target=\"_parent\"><img src=\"https://colab.research.google.com/assets/colab-badge.svg\" alt=\"Open In Colab\"/></a>"
      ]
    },
    {
      "cell_type": "code",
      "execution_count": null,
      "metadata": {
        "colab": {
          "base_uri": "https://localhost:8080/"
        },
        "id": "pjMrnB1ZaZtk",
        "outputId": "87bd00f1-4335-40ab-e05e-886287f82322"
      },
      "outputs": [
        {
          "output_type": "stream",
          "name": "stdout",
          "text": [
            "\n",
            "--- Platform-wise Average Rating ---\n",
            "Platform\n",
            "edX         4.800000\n",
            "Coursera    4.550000\n",
            "Udemy       4.466667\n",
            "Name: Rating, dtype: float64\n",
            "\n",
            "--- Category-wise Average Rating ---\n",
            "                 mean  count\n",
            "Category                    \n",
            "Data Science      4.8      1\n",
            "Web Development   4.6      1\n",
            "Programming       4.6      2\n",
            "Cloud             4.4      1\n",
            "Business          4.3      1\n",
            "\n",
            "--- Top 3 Rated Courses ---\n",
            "                         Title  Platform  Rating\n",
            "3        Data Science Bootcamp       edX     4.8\n",
            "1                Advanced Java  Coursera     4.7\n",
            "4  React Frontend Crash Course     Udemy     4.6\n",
            "\n",
            "--- Top 3 Most Reviewed Courses ---\n",
            "                   Title Platform  Reviews\n",
            "3  Data Science Bootcamp      edX     3000\n",
            "0   Python for Beginners    Udemy     2500\n",
            "2      Excel Masterclass    Udemy     2200\n",
            "\n",
            "--- Courses Grouped by Price Range ---\n",
            "Price Range\n",
            "Low       3\n",
            "Medium    1\n",
            "High      2\n",
            "Name: Title, dtype: int64\n",
            "\n",
            "--- Summary Statistics ---\n",
            "       CourseID    Rating      Reviews      Price\n",
            "count  6.000000  6.000000     6.000000   6.000000\n",
            "mean   3.500000  4.550000  2216.666667  26.656667\n",
            "std    1.870829  0.187083   479.235502   9.750214\n",
            "min    1.000000  4.300000  1700.000000  15.990000\n",
            "25%    2.250000  4.425000  1875.000000  19.240000\n",
            "50%    3.500000  4.550000  2150.000000  24.990000\n",
            "75%    4.750000  4.675000  2425.000000  33.740000\n",
            "max    6.000000  4.800000  3000.000000  39.990000\n"
          ]
        },
        {
          "output_type": "stream",
          "name": "stderr",
          "text": [
            "/tmp/ipython-input-1-3438913847.py:43: FutureWarning: The default of observed=False is deprecated and will be changed to True in a future version of pandas. Pass observed=False to retain current behavior or observed=True to adopt the future default and silence this warning.\n",
            "  price_group = df.groupby('Price Range')['Title'].count()\n"
          ]
        }
      ],
      "source": [
        "import pandas as pd\n",
        "\n",
        "# Sample course data\n",
        "data = {\n",
        "    'CourseID': [1, 2, 3, 4, 5, 6],\n",
        "    'Title': [\n",
        "        'Python for Beginners', 'Advanced Java', 'Excel Masterclass',\n",
        "        'Data Science Bootcamp', 'React Frontend Crash Course', 'AWS Solutions Architect'\n",
        "    ],\n",
        "    'Platform': ['Udemy', 'Coursera', 'Udemy', 'edX', 'Udemy', 'Coursera'],\n",
        "    'Category': ['Programming', 'Programming', 'Business', 'Data Science', 'Web Development', 'Cloud'],\n",
        "    'Rating': [4.5, 4.7, 4.3, 4.8, 4.6, 4.4],\n",
        "    'Reviews': [2500, 1800, 2200, 3000, 2100, 1700],\n",
        "    'Price': [19.99, 29.99, 15.99, 39.99, 18.99, 34.99]\n",
        "}\n",
        "\n",
        "# Create DataFrame\n",
        "df = pd.DataFrame(data)\n",
        "\n",
        "# --- Platform-wise average rating ---\n",
        "print(\"\\n--- Platform-wise Average Rating ---\")\n",
        "platform_rating = df.groupby('Platform')['Rating'].mean().sort_values(ascending=False)\n",
        "print(platform_rating)\n",
        "\n",
        "# --- Category-wise rating ---\n",
        "print(\"\\n--- Category-wise Average Rating ---\")\n",
        "category_rating = df.groupby('Category')['Rating'].agg(['mean', 'count']).sort_values(by='mean', ascending=False)\n",
        "print(category_rating)\n",
        "\n",
        "# --- Top 3 Rated Courses ---\n",
        "print(\"\\n--- Top 3 Rated Courses ---\")\n",
        "top_rated = df.sort_values(by='Rating', ascending=False).head(3)\n",
        "print(top_rated[['Title', 'Platform', 'Rating']])\n",
        "\n",
        "# --- Most Reviewed Courses ---\n",
        "print(\"\\n--- Top 3 Most Reviewed Courses ---\")\n",
        "most_reviewed = df.sort_values(by='Reviews', ascending=False).head(3)\n",
        "print(most_reviewed[['Title', 'Platform', 'Reviews']])\n",
        "\n",
        "# --- Courses by Price Range ---\n",
        "print(\"\\n--- Courses Grouped by Price Range ---\")\n",
        "df['Price Range'] = pd.cut(df['Price'], bins=[0, 20, 30, 50], labels=['Low', 'Medium', 'High'])\n",
        "price_group = df.groupby('Price Range')['Title'].count()\n",
        "print(price_group)\n",
        "\n",
        "# --- Summary Stats ---\n",
        "print(\"\\n--- Summary Statistics ---\")\n",
        "print(df.describe())\n"
      ]
    }
  ]
}